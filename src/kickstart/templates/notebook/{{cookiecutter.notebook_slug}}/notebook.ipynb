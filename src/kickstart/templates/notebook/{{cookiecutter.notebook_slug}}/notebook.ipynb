{
    "nbformat": 4,
    "nbformat_minor": 2,
    "metadata": {},
    "cells": [
	{ "cell_type": "raw",
	  "metadata": {},
	  "source": [
	      "---\n",
	      "title: {{ cookiecutter.notebook_title }}\n",
	      "author: {{ cookiecutter.notebook_author }}\n",
	      "date: {{ cookiecutter.notebook_date }}\n",
	      "code-block-border-left: true\n",
	      "code-line-numbers: true\n",
	      "format: \n",
	      "  html: \n",
	      "    toc: {{ cookiecutter.notebook_toc | tojson }}\n",
	      "jupyter: {{ cookiecutter.jupyter_kernel }}\n",
	      "---\n"
	  ]
	}
    ]
}
